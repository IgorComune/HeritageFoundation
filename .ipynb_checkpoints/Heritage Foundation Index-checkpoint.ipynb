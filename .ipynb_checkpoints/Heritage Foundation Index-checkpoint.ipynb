{
 "cells": [
  {
   "cell_type": "code",
   "execution_count": null,
   "metadata": {},
   "outputs": [],
   "source": [
    "#importing the libraries\n",
    "\n",
    "import pandas as pd\n",
    "import numpy as np\n",
    "import matplotlib.pyplot as plt\n",
    "import seaborn as sb"
   ]
  },
  {
   "cell_type": "code",
   "execution_count": null,
   "metadata": {},
   "outputs": [],
   "source": [
    "#reading the excel file\n",
    "\n",
    "heritage = pd.read_excel('index2021_data.xls')\n",
    "heritage"
   ]
  },
  {
   "cell_type": "code",
   "execution_count": null,
   "metadata": {},
   "outputs": [],
   "source": [
    "# exploring the data set shape\n",
    "heritage.shape"
   ]
  },
  {
   "cell_type": "code",
   "execution_count": null,
   "metadata": {},
   "outputs": [],
   "source": [
    "#exploring the data types - no need to convert any data type column\n",
    "heritage.dtypes"
   ]
  },
  {
   "cell_type": "markdown",
   "metadata": {},
   "source": [
    "# working with the data frame"
   ]
  },
  {
   "cell_type": "code",
   "execution_count": null,
   "metadata": {},
   "outputs": [],
   "source": [
    "# deleting country id and webname\n",
    "\n",
    "del heritage['CountryID'], heritage['WEBNAME'], heritage['Country']"
   ]
  },
  {
   "cell_type": "code",
   "execution_count": null,
   "metadata": {},
   "outputs": [],
   "source": [
    "# the two columns were deleted\n",
    "heritage.shape"
   ]
  },
  {
   "cell_type": "code",
   "execution_count": null,
   "metadata": {},
   "outputs": [],
   "source": [
    "# setting Country Name as index\n",
    "\n",
    "heritage.set_index('Country Name')"
   ]
  },
  {
   "cell_type": "code",
   "execution_count": null,
   "metadata": {},
   "outputs": [],
   "source": [
    "contries_nan = heritage[heritage.isna().any(axis=1)]\n",
    "contries_nan"
   ]
  },
  {
   "cell_type": "code",
   "execution_count": null,
   "metadata": {},
   "outputs": [],
   "source": [
    "len(contries_nan)"
   ]
  },
  {
   "cell_type": "code",
   "execution_count": null,
   "metadata": {},
   "outputs": [],
   "source": [
    "heritage.shape"
   ]
  },
  {
   "cell_type": "code",
   "execution_count": null,
   "metadata": {},
   "outputs": [],
   "source": [
    "# the 11 countries with NaN values was dropped from \n",
    "# the main data frame \"heritage\" and they are stored in the variable \"contries_nan\"\n",
    "heritage.dropna(inplace=True)\n"
   ]
  },
  {
   "cell_type": "code",
   "execution_count": null,
   "metadata": {},
   "outputs": [],
   "source": [
    "#first view of the clean data and setting again the index\n",
    "heritage.set_index('Country Name')"
   ]
  },
  {
   "cell_type": "code",
   "execution_count": null,
   "metadata": {},
   "outputs": [],
   "source": [
    "heritage2 = heritage.set_index('Country Name')\n"
   ]
  },
  {
   "cell_type": "markdown",
   "metadata": {},
   "source": [
    "# gathering data"
   ]
  },
  {
   "cell_type": "code",
   "execution_count": null,
   "metadata": {},
   "outputs": [],
   "source": [
    "#counting the number of countries grouping by its region\n",
    "heritage2.groupby(['Region'])['World Rank'].count()"
   ]
  },
  {
   "cell_type": "code",
   "execution_count": null,
   "metadata": {},
   "outputs": [],
   "source": [
    "totNcountries = heritage2.shape[0]\n",
    "ameNcoutnries = heritage2.groupby(['Region'])['World Rank'].count()[0]\n",
    "apNcoutnries = heritage2.groupby(['Region'])['World Rank'].count()[1]\n",
    "euNcoutnries = heritage2.groupby(['Region'])['World Rank'].count()[2]\n",
    "mnaNcoutnries = heritage2.groupby(['Region'])['World Rank'].count()[3]\n",
    "ssaNcoutnries = heritage2.groupby(['Region'])['World Rank'].count()[4]"
   ]
  },
  {
   "cell_type": "code",
   "execution_count": null,
   "metadata": {},
   "outputs": [],
   "source": [
    "#organizing the number of countries by region is a dict\n",
    "countries = {'Americas': ameNcoutnries,\n",
    "            'Asia-Pacific':apNcoutnries,\n",
    "            'Europe':euNcoutnries,\n",
    "            'Middle East and North Africa':mnaNcoutnries,\n",
    "            'Sub-Saharan Africa':ssaNcoutnries,}\n",
    "countries"
   ]
  },
  {
   "cell_type": "code",
   "execution_count": null,
   "metadata": {},
   "outputs": [],
   "source": [
    "heritage2.groupby(['Region'])['2021 Score'].mean().sort_values()"
   ]
  },
  {
   "cell_type": "markdown",
   "metadata": {},
   "source": [
    "###########\n",
    "ideias\n",
    "começar a escrever medium\n",
    "up no github\n",
    "###########"
   ]
  }
 ],
 "metadata": {
  "kernelspec": {
   "display_name": "Python 3",
   "language": "python",
   "name": "python3"
  },
  "language_info": {
   "codemirror_mode": {
    "name": "ipython",
    "version": 3
   },
   "file_extension": ".py",
   "mimetype": "text/x-python",
   "name": "python",
   "nbconvert_exporter": "python",
   "pygments_lexer": "ipython3",
   "version": "3.8.5"
  }
 },
 "nbformat": 4,
 "nbformat_minor": 4
}
